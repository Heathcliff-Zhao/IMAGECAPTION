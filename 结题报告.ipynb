{
 "cells": [
  {
   "cell_type": "markdown",
   "metadata": {},
   "source": [
    "## 任务说明\n",
    "\n",
    "本项目实现了基于编解码框架方法的图像描述生成任务，可以自动为图片生成流畅关联的自然语言描述。\n",
    "\n",
    "总共实现了三种不同的模型：\n",
    "\n",
    "- 1.CNN/ViT与GRU结合\n",
    "- 2.基于自注意力的网格/区域表示\n",
    "- 3.视觉Transformer+Transformer解码器\n",
    "\n",
    "实验使用的数据集采用了deepfashion-multimodal。\n",
    "\n",
    "通过实现三项评测标准作为模型性能评估的依据：\n",
    "\n",
    "- 1.ROUGE-L\n",
    "- 2.CIDEr-D\n",
    "- 3.METEOR\n",
    "\n",
    "通过实现不同的模型结构和评测标准，我们旨在探索和评估各种方法在图像描述领域的有效性和实用性。\n",
    "\n",
    "最后，我们考虑通过模型微调、数据集扩展等方式提升模型系统的性能。\n",
    "\n",
    "（待补充）"
   ]
  },
  {
   "cell_type": "markdown",
   "metadata": {},
   "source": [
    "## 实验数据\n",
    "\n",
    "### 数据集下载\n",
    "- 数据集使用的是Deepfashion-multimodal([下载地址](https://github.com/yumingj/DeepFashion-MultiModal)).\n",
    "- 数据集包含12,694张服饰图片，每个图片有若干条句子描述.\n",
    "- 数据集被划分为20%的测试集与80%的训练集.\n",
    "- 下载解压会，将图片放在指定目录(本代码中将该目录设置为../../data/deepfashion/)下的images文件夹里.\n",
    "\n",
    "### 数据预处理\n",
    "\n",
    "#### 预处理步骤：\n",
    "\n",
    "#### 代码：\n",
    "\n"
   ]
  },
  {
   "cell_type": "markdown",
   "metadata": {},
   "source": [
    "## 实验环境\n",
    "(待补充)"
   ]
  },
  {
   "cell_type": "markdown",
   "metadata": {},
   "source": [
    "## 所用的方法或模型\n",
    "\n",
    "### 评测指标\n",
    "\n",
    "#### ROUGE-L(Recall-Oriented Understudy for Gisting Evaluation)\n",
    "- ROUGE-L是基于Rouge的评估自动文摘以及机器翻译的指标，特别关注于生成文本的长距离依赖和结构，计算利用了最长公共子序列。\n",
    "- 最长公共子序列的召回和精度:\n",
    "$$\n",
    "R_{lcs} = \\frac{LCS(X, Y)}{m}\n",
    ",\n",
    "P_{lcs} = \\frac{LCS(X, Y)}{n}\n",
    "$$\n",
    "\n",
    "- Rouge-L指标计算公式为：\n",
    "$$\n",
    "F_{lcs} = \\frac{(1 + \\beta^2)R_{lcs}P_{lcs}}{R_{lcs} + \\beta^2 P_{lcs}}\n",
    "$$\n",
    "\n",
    "\n",
    "\n",
    "#### CIDEr-D\n",
    "\n",
    "$$\n",
    "g_k(s_{ij}) = \\frac{h_k(s_{ij})}{\\sum_{\\omega_l \\in \\Omega} h_k(s_{ij})} \\log\\left(\\frac{|I|}{\\sum_{l_p \\in I} \\min(1, \\sum_{q} h_k(s_{pq}))}\\right)^k\n",
    "$$\n",
    "\n",
    "$$\n",
    "CIDEr_n(c_i, S_i) = \\frac{1}{m} \\sum_j \\frac{g^n(c_i) \\cdot g^n(s_{ij})}{\\|g^n(c_i)\\| \\|g^n(s_{ij})\\|}\n",
    "$$\n",
    "\n",
    "$$\n",
    "CIDEr(c_i, S_i) = \\sum_{n=1}^{N} \\omega_n CIDEr_n(c_i, S_i)\n",
    "$$\n",
    "\n",
    "$$\n",
    "CIDEr - D_n(c_i, S_i) = \\frac{10}{m} \\sum_j e^{-\\frac{(l(c_i) - l(s_{ij}))^2}{2\\sigma^2}} \\frac{\\min(g^n(c_i), g^n(s_{ij})) \\cdot g^n(s_{ij})}{\\|g^n(c_i)\\| \\|g^n(s_{ij})\\|}\n",
    "$$\n",
    "\n",
    "\n",
    "#### METEOR\n",
    "\n",
    "\n",
    "### 模型"
   ]
  },
  {
   "cell_type": "markdown",
   "metadata": {},
   "source": [
    "## 实验结果"
   ]
  }
 ],
 "metadata": {
  "language_info": {
   "name": "python"
  }
 },
 "nbformat": 4,
 "nbformat_minor": 2
}
